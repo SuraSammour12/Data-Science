{
  "nbformat": 4,
  "nbformat_minor": 0,
  "metadata": {
    "colab": {
      "provenance": []
    },
    "kernelspec": {
      "name": "python3",
      "display_name": "Python 3"
    },
    "language_info": {
      "name": "python"
    }
  },
  "cells": [
    {
      "cell_type": "markdown",
      "source": [
        "**Testing Linear Regressions and KNN (K-Nearest Neighbors) regression**"
      ],
      "metadata": {
        "id": "vPvXPXnewdqJ"
      }
    },
    {
      "cell_type": "markdown",
      "source": [
        "The code aims to train machine learning models to predict a person's life satisfaction based on the GDP per capita (average income per person in a country). It uses:\n",
        "\n",
        "Data from the OECD's Better Life Index and GDP per capita statistics.\n",
        "Two machine learning models:\n",
        "Linear Regression.\n",
        "K-Nearest Neighbors (KNN).\n",
        "The goal is to establish the relationship between a country's GDP per capita and the average life satisfaction of its residents, visualize this relationship, and make predictions for unseen data, such as Cyprus' GDP per capita.\n",
        "\n"
      ],
      "metadata": {
        "id": "Y8y1_vf-KCfX"
      }
    },
    {
      "cell_type": "code",
      "source": [
        "%matplotlib inline\n",
        "import matplotlib as mpl\n",
        "mpl.rc('axes',labelsize=14)\n",
        "mpl.rc('xtick',labelsize=12)\n",
        "mpl.rc('ytick',labelsize=12)"
      ],
      "metadata": {
        "id": "-_TLYtDKw1r0"
      },
      "execution_count": 2,
      "outputs": []
    },
    {
      "cell_type": "code",
      "source": [
        "import sklearn # Import sklearn library for machine learning tasks\n",
        "import pandas as pd\n",
        "\n",
        "# Note : gdp per capita => The total income of the state divided by the number of individuals\n",
        "\n",
        "def prepare_country_stats(oecd_bli,gdp_per_capita): # Function to prepare country statistics by merging and cleaning data\n",
        "\n",
        "  oecd_bil = oecd_bil[oecd_bil['INEQUALITY']=='TOT'] # Filter OECD data to include only rows with total equality (TOT)\n",
        "  oecd_bil = oecd_bil.pivot(index='Country',columns='Indicator',values='Value') # Pivot the data to set countries as rows and indicators as columns\n",
        "  gdp_per_capita.rename(columns={'2015':'GDP per capita'},inplace=True)\n",
        "  gdp_per_capita.set_index('country',inplace=True)\n",
        "  full_country_stats=pd.merge(left=oecd_bli,right=gdp_per_capita,left_index=True,right_index=True) # Merge the two datasets on the country index\n",
        "\n",
        "  full_country_stats.sort_values(by='GDP per capita',inplace=True) # Sort the merged dataset by GDP per capita\n",
        "  # Define indices to exclude and keep only the remaining rows\n",
        "  remove_indices = [0,1,6,8,33,34,35]\n",
        "  keep_indices = list(set(range(36))-set(remove_indices))\n",
        "  return full_country_stats[['GDP per capita','life satisfaction']].iloc[keep_indices] # Return the cleaned dataset with selected columns\n",
        "  \"\"\"\n",
        "   The function prepare_country_stats cleans, merges,\n",
        "   and filters data from OECD's Better Life Index and GDP per capita datasets to create a\n",
        "   structured dataset showing the relationship between GDP per capita and life satisfaction.\n",
        "  \"\"\"\n"
      ],
      "metadata": {
        "id": "pq9JSAKjz72Z"
      },
      "execution_count": 3,
      "outputs": []
    },
    {
      "cell_type": "code",
      "source": [
        "import os # Import the os library for interacting with the file system\n",
        "\n",
        "datapath = os.path.join('datasets','lifesat','') # Dynamically create the path to the 'lifesat' dataset directory"
      ],
      "metadata": {
        "id": "58BRk868PXHV"
      },
      "execution_count": 4,
      "outputs": []
    },
    {
      "cell_type": "code",
      "source": [
        "import urllib.request # Import urllib.request for downloading files from the internet\n",
        "DOWNLOAD_ROOT = \"https://raw.githubusercontent.com/ageron/handson-ml2/master/\" # Define the base URL for the dataset files\n",
        "os.makedirs(datapath, exist_ok=True) # Create the local directory for datasets if it doesn't already exist\n",
        "\n",
        "# Loop through the list of dataset filenames\n",
        "for filename in ('oecd_bli_2015.csv','gdp_per_capita.csv'):\n",
        "  print('Downloading',filename) # Print the name of the file being downloaded\n",
        "  url = DOWNLOAD_ROOT + 'datasets/lifesat/' + filename # Construct the full URL for the current file\n",
        "  urllib.request.urlretrieve(url, datapath + filename) # Download the file and save it in the local directory\n",
        "  \"\"\"\n",
        "  The code downloads two dataset files (oecd_bill_2015.csv and gdp_per_capita.csv)\n",
        "  from a specified GitHub repository and saves them locally in the lifesat directory,\n",
        "  creating the directory if it doesn't already exist.\n",
        "  \"\"\"\n",
        "\n",
        ""
      ],
      "metadata": {
        "colab": {
          "base_uri": "https://localhost:8080/"
        },
        "id": "Ti6AqHzXP2Ja",
        "outputId": "4e210583-595a-4755-cc6b-39aa1051ed01"
      },
      "execution_count": 5,
      "outputs": [
        {
          "output_type": "stream",
          "name": "stdout",
          "text": [
            "Downloading oecd_bli_2015.csv\n",
            "Downloading gdp_per_capita.csv\n"
          ]
        }
      ]
    },
    {
      "cell_type": "code",
      "source": [
        "# Code example\n",
        "import matplotlib.pyplot as plt\n",
        "import numpy as np\n",
        "import pandas as pd\n",
        "import sklearn.linear_model\n",
        "\n",
        "# Load the data\n",
        "oecd_bli = pd.read_csv(datapath + \"oecd_bli_2015.csv\", thousands=',')\n",
        "gdp_per_capita = pd.read_csv(datapath + \"gdp_per_capita.csv\",thousands=',',delimiter='\\t',\n",
        "                             encoding='latin1', na_values=\"n/a\")\n",
        "\n",
        "# Prepare the data\n",
        "country_stats = prepare_country_stats(oecd_bli, gdp_per_capita)\n",
        "X = np.c_[country_stats[\"GDP per capita\"]] # Feature\n",
        "y = np.c_[country_stats[\"Life satisfaction\"]] # Label\n",
        "\"\"\"\n",
        "Note: This setup, with one feature (GDP per capita) and one label (Life satisfaction), is ideal for linear regression models ✓\n",
        "\"\"\"\n",
        "\n",
        "# Visualize the data\n",
        "country_stats.plot(kind='scatter', x=\"GDP per capita\", y='Life satisfaction')\n",
        "plt.show()\n",
        "\n",
        "# Select a linear model\n",
        "model = sklearn.linear_model.LinearRegression()\n",
        "\"\"\"\n",
        "OOP\n",
        "(New instance) => model\n",
        "(Class) => LinearRegression\n",
        "(Library) => sklearn.linear_model\n",
        "\"\"\"\n",
        "\n",
        "# Train the model\n",
        "model.fit(X, y)\n",
        "# X : feature , y : label\n",
        "\n",
        "# Make a prediction\n",
        "X_new = [[60000]]  # GDP per capita\n",
        "print(model.predict(X_new)) # outputs [[7.15367008]]\n",
        "\"\"\"\n",
        "HOW THE MODEL PREDICT ? 🔮\n",
        "The model will draw the --Best Fit Line--, which represents the optimal relationship between the input (GDP per capita) and the output ( life satisfaction)\n",
        "Then, a vertical line is drawn from a specific value on the X-axis (input) up to the Best Fit Line\n",
        "At the intersection point, a horizontal line is drawn to the Y-axis to determine the predicted output (life satisfaction).\n",
        "\"\"\""
      ],
      "metadata": {
        "colab": {
          "base_uri": "https://localhost:8080/",
          "height": 475
        },
        "id": "j4bsWhAE7PZF",
        "outputId": "63bcc709-22ab-48ed-a7d2-00f4682cc92f"
      },
      "execution_count": 17,
      "outputs": [
        {
          "output_type": "display_data",
          "data": {
            "text/plain": [
              "<Figure size 640x480 with 1 Axes>"
            ],
            "image/png": "[encoded data removed]"
          },
          "metadata": {}
        },
        {
          "output_type": "stream",
          "name": "stdout",
          "text": [
            "[[7.15367008]]\n"
          ]
        }
      ]
    },
    {
      "cell_type": "code",
      "source": [
        "# Select a 3-Nearest Neighbors model 👥\n",
        "import sklearn.neighbors\n",
        "model1 = sklearn.neighbors.KNeighborsRegressor(n_neighbors=3)\n",
        "\n",
        "# Train the model\n",
        "model1.fit(X,y)\n",
        "\n",
        "\"\"\"\n",
        "# Note: In KNN, the fit() method does not perform traditional training.\n",
        "# It simply stores the training data (X, y) for use during predictions.\n",
        "# KNN is a lazy learning algorithm 🧘‍♂️, so there is no actual training process.\n",
        "\"\"\"\n",
        "\n",
        "# Make a prediction\n",
        "print(model1.predict(X_new)) # outputs [[7.23333333]]"
      ],
      "metadata": {
        "colab": {
          "base_uri": "https://localhost:8080/"
        },
        "id": "QVmhfowgF4gi",
        "outputId": "12b360b9-e128-4325-f540-9f9bddd2cde5"
      },
      "execution_count": 18,
      "outputs": [
        {
          "output_type": "stream",
          "name": "stdout",
          "text": [
            "[[7.23333333]]\n"
          ]
        }
      ]
    }
  ]
}